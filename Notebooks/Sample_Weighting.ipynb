{
 "cells": [
  {
   "cell_type": "markdown",
   "metadata": {},
   "source": [
    "# Feature Weighted Fuzzy C-means Classifier Visuals"
   ]
  },
  {
   "cell_type": "code",
   "execution_count": 1,
   "metadata": {},
   "outputs": [
    {
     "name": "stdout",
     "output_type": "stream",
     "text": [
      "30 Iterations Required\n"
     ]
    }
   ],
   "source": [
    "import matplotlib.pyplot as plt\n",
    "import numpy as np\n",
    "from sklearn.cluster import KMeans\n",
    "\n",
    "np.random.seed(0)\n",
    "n_points_per_cluster = 250\n",
    "\n",
    "C1 = [-.5, -1.5] + .4 * np.random.randn(n_points_per_cluster, 2)\n",
    "C2 = [.5,0] + .25 * np.random.randn(n_points_per_cluster, 2)\n",
    "C3 = [0, 1.5] + .4 * np.random.randn(n_points_per_cluster, 2)\n",
    "\n",
    "C1 = np.hstack((C1, 1 * np.random.randn(n_points_per_cluster, 1)))\n",
    "C2 = np.hstack((C2, 1 * np.random.randn(n_points_per_cluster, 1)))\n",
    "C3 = np.hstack((C3, 1 * np.random.randn(n_points_per_cluster, 1)))\n",
    "X_ =  np.vstack((C1, C2, C3))\n",
    "from mpl_toolkits.mplot3d import Axes3D\n",
    "fig3D = plt.figure(figsize=(20, 20))\n",
    "ax = fig3D.add_subplot(221, projection='3d')\n",
    "ax.scatter(C1[:, 0], C1[:, 1],C1[:, 2], c= 'red',  alpha = .5)\n",
    "ax.scatter(C2[:, 0], C2[:, 1],C2[:, 2], c= 'green',  alpha = .5)\n",
    "ax.scatter(C3[:, 0], C3[:, 1],C3[:, 2], c= 'blue',  alpha = .5)\n",
    "ax.set_ylim(-3,3)\n",
    "ax.set_xlim(-3,3)\n",
    "ax.set_title(\"Clusters With Noise Feature\")\n",
    "ax2 = fig3D.add_subplot(222, projection='3d')\n",
    "zeros = np.zeros((n_points_per_cluster, 1))\n",
    "ax2.scatter(C1[:, 0], C1[:, 1],zeros, c= 'red',  alpha = .5)\n",
    "ax2.scatter(C2[:, 0], C2[:, 1],zeros, c= 'green',  alpha = .5)\n",
    "ax2.scatter(C3[:, 0], C3[:, 1],zeros, c= 'blue',  alpha = .5)\n",
    "ax2.set_ylim(-3,3)\n",
    "ax2.set_xlim(-3,3)\n",
    "ax2.set_zlim(-3,3)\n",
    "ax2.set_title(\"Clusters Without Noise Feature\")\n",
    "k = KMeans(3)\n",
    "k.fit(X_)\n",
    "l = k.labels_\n",
    "ax3 = fig3D.add_subplot(223, projection='3d')\n",
    "ax3.scatter(X_[:, 0], X_[:, 1],X_[:, 2], c=l,  alpha = .5)\n",
    "ax3.set_ylim(-3,3)\n",
    "ax3.set_xlim(-3,3)\n",
    "ax3.set_zlim(-3,3)\n",
    "ax3.set_title(\"K-means With Noise Features\")\n",
    "\n",
    "import sys \n",
    "sys.path.insert(0, '/home/colin/Desktop/FWFCM/src')\n",
    "from feature_learning import return_weighted_distance\n",
    "p = return_weighted_distance(X_, threshold = 0.00005, n = 20)\n",
    "\n",
    "for i in range(3):\n",
    "    X_[:, i] = X_[:, i] *  p[:, i] * 1.5\n",
    "k.fit(X_)\n",
    "l = k.labels_\n",
    "zeros = np.zeros((n_points_per_cluster*3, 1))\n",
    "ax4 = fig3D.add_subplot(224, projection='3d')\n",
    "ax4.set_title(\"K-means With Learned and Scaled Features\")\n",
    "ax4.scatter(X_[:, 0], X_[:, 1],X_[:, 2], c=l,  alpha = .5)\n",
    "ax4.set_ylim(-3,3)\n",
    "ax4.set_xlim(-3,3)\n",
    "ax4.set_zlim(-3,3)\n",
    "fig3D.savefig(\"NoiseReduction.png\")\n",
    "fig3D.show()"
   ]
  },
  {
   "cell_type": "code",
   "execution_count": 2,
   "metadata": {},
   "outputs": [
    {
     "data": {
      "text/plain": [
       "array([[0.11590097, 1.        , 0.16391792]])"
      ]
     },
     "execution_count": 2,
     "metadata": {},
     "output_type": "execute_result"
    }
   ],
   "source": [
    "p"
   ]
  },
  {
   "cell_type": "code",
   "execution_count": 3,
   "metadata": {},
   "outputs": [],
   "source": [
    "plt.show()"
   ]
  },
  {
   "cell_type": "code",
   "execution_count": null,
   "metadata": {},
   "outputs": [],
   "source": []
  }
 ],
 "metadata": {
  "kernelspec": {
   "display_name": "Python 3",
   "language": "python",
   "name": "python3"
  },
  "language_info": {
   "codemirror_mode": {
    "name": "ipython",
    "version": 3
   },
   "file_extension": ".py",
   "mimetype": "text/x-python",
   "name": "python",
   "nbconvert_exporter": "python",
   "pygments_lexer": "ipython3",
   "version": "3.6.6"
  }
 },
 "nbformat": 4,
 "nbformat_minor": 2
}
