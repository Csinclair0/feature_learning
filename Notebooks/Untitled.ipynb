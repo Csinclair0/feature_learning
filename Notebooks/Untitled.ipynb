{
 "cells": [
  {
   "cell_type": "markdown",
   "metadata": {},
   "source": [
    "# Feature Weighted Fuzzy C-means Classifier\n",
    "This project was originally meant to be a part of the D-BOM order mining tool, but was foreseen becoming the bulk of the actual work. For that reason, I gave it a stand alone repo. This notebook will explore how I will turn this into a library. I will use the iris dataset for testing. This notebook will first attemp to build fuzzy c-means from scratch, and then it will attempt to introduce the feature weighted learning component. \n"
   ]
  },
  {
   "cell_type": "code",
   "execution_count": 17,
   "metadata": {},
   "outputs": [],
   "source": [
    "from sklearn.datasets import load_iris\n",
    "import numpy as np\n",
    "iris = load_iris()"
   ]
  },
  {
   "cell_type": "code",
   "execution_count": 18,
   "metadata": {},
   "outputs": [
    {
     "data": {
      "text/plain": [
       "array([[5.1, 3.5, 1.4, 0.2],\n",
       "       [4.9, 3. , 1.4, 0.2],\n",
       "       [4.7, 3.2, 1.3, 0.2],\n",
       "       [4.6, 3.1, 1.5, 0.2],\n",
       "       [5. , 3.6, 1.4, 0.2],\n",
       "       [5.4, 3.9, 1.7, 0.4],\n",
       "       [4.6, 3.4, 1.4, 0.3],\n",
       "       [5. , 3.4, 1.5, 0.2],\n",
       "       [4.4, 2.9, 1.4, 0.2],\n",
       "       [4.9, 3.1, 1.5, 0.1]])"
      ]
     },
     "execution_count": 18,
     "metadata": {},
     "output_type": "execute_result"
    }
   ],
   "source": [
    "X = iris.data\n",
    "X[:10, :]"
   ]
  },
  {
   "cell_type": "code",
   "execution_count": 41,
   "metadata": {},
   "outputs": [],
   "source": [
    "scales = np.amax(X, axis = 0)"
   ]
  },
  {
   "cell_type": "code",
   "execution_count": 44,
   "metadata": {},
   "outputs": [],
   "source": [
    "# Basic Fuzzy c-means clustering \n",
    "c = 3\n",
    "epsilon  = .05\n",
    "m = 2\n",
    "V = np.empty((c,4))\n",
    "for i in np.arange(0,c):\n",
    "    c_ = np.random.random((c,1))* scales[i]\n",
    "    V[:, i:i+1] = c_\n",
    "    \n",
    "fuzz = np.random.random(X.shape)    "
   ]
  },
  {
   "cell_type": "code",
   "execution_count": 45,
   "metadata": {},
   "outputs": [
    {
     "data": {
      "text/plain": [
       "array([[6.90067416e-001, 4.03567345e+000, 1.96562883e+000,\n",
       "        6.95024462e-310],\n",
       "       [4.36526976e+000, 1.52127116e+000, 6.67822419e+000,\n",
       "        6.95024462e-310],\n",
       "       [5.17583961e+000, 2.75369530e+000, 2.57638666e+000,\n",
       "        6.95028791e-310]])"
      ]
     },
     "execution_count": 45,
     "metadata": {},
     "output_type": "execute_result"
    }
   ],
   "source": [
    "V"
   ]
  },
  {
   "cell_type": "code",
   "execution_count": 46,
   "metadata": {},
   "outputs": [],
   "source": [
    "dist_weights = [1,1,1,1]\n",
    "def euclidean(X, V, weights):\n",
    "    dists = X- V\n",
    "    return np.sqrt((dists * weights) **2)\n"
   ]
  },
  {
   "cell_type": "code",
   "execution_count": 47,
   "metadata": {},
   "outputs": [],
   "source": [
    "def update(X, V):\n",
    "    #update fuzziness matrix\n",
    "    for v_i in V.shape[0]:\n",
    "        numerator = fuzz[i]**m * X\n",
    "        denominator = fuzz[i]**m\n",
    "        v_i = numerator/denominator\n",
    "    \n",
    "    #update distance matrix\n",
    "    d = np.empty(X.shape)\n",
    "    for d_j in np.arange(0,X.shape[0]):\n",
    "        x_jk = X[d_j, :]\n",
    "        for d_k in np.arange(0,c)\n",
    "        \n",
    "        \n",
    "    return \n",
    "    "
   ]
  },
  {
   "cell_type": "code",
   "execution_count": null,
   "metadata": {},
   "outputs": [],
   "source": []
  }
 ],
 "metadata": {
  "kernelspec": {
   "display_name": "Python 3",
   "language": "python",
   "name": "python3"
  },
  "language_info": {
   "codemirror_mode": {
    "name": "ipython",
    "version": 3
   },
   "file_extension": ".py",
   "mimetype": "text/x-python",
   "name": "python",
   "nbconvert_exporter": "python",
   "pygments_lexer": "ipython3",
   "version": "3.6.6"
  }
 },
 "nbformat": 4,
 "nbformat_minor": 2
}
